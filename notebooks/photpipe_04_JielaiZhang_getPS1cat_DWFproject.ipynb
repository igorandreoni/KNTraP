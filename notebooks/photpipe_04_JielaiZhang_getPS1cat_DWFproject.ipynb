{
 "cells": [
  {
   "cell_type": "raw",
   "metadata": {},
   "source": [
    "#Ruyi\n",
    "scp -i /Users/jielaizhang/.ssh/id_rsa_ozstarfstars fstars@ozstar.swin.edu.au:/fred/oz100/NOAO_archive/KNTraP_Project/src/photpipe/config/DECAMNOAO/DWF/DWF.fieldcenters /Users/jielaizhang/src/KNTraP/notes\n",
    "\n",
    "#OzSTAR\n",
    "mkdir /fred/oz100/NOAO_archive/KNTraP_Project/photpipe/v20.0/DECAMNOAO/DWF/abscats/\n",
    "mkdir /fred/oz100/NOAO_archive/KNTraP_Project/photpipe/v20.0/DECAMNOAO/DWF/abscats/0x5013\n",
    "mkdir /fred/oz100/NOAO_archive/KNTraP_Project/photpipe/v20.0/DECAMNOAO/DWF/abscats/0x5014\n",
    "mkdir /fred/oz100/NOAO_archive/KNTraP_Project/photpipe/v20.0/DECAMNOAO/DWF/abscats/0x5015\n",
    "mkdir /fred/oz100/NOAO_archive/KNTraP_Project/photpipe/v20.0/DECAMNOAO/DWF/abscats/0x5016"
   ]
  },
  {
   "cell_type": "code",
   "execution_count": 1,
   "metadata": {},
   "outputs": [],
   "source": [
    "#!/usr/env/python\n",
    "\n",
    "import pandas as pd\n",
    "import astropy.io.ascii as ascii\n",
    "import numpy as np\n",
    "\n",
    "f='/Users/jielaizhang/src/KNTraP/notes/DWF.fieldcenters'\n",
    "pipedata_dir = '/fred/oz100/NOAO_archive/KNTraP_Project/photpipe/v20.0/DECAMNOAO/DWF/'\n",
    "outdir       = '/fred/oz100/NOAO_archive/KNTraP_Project/photpipe/v20.0/DECAMNOAO/DWF/abscats/'\n",
    "\n",
    "d = ascii.read(f)\n",
    "fieldnames = np.unique(d['field'])\n",
    "command_script = f'/Users/jielaizhang/src/KNTraP/scripts/photpipe_getDWF_PS1cats.sh'\n",
    "saveit = open(command_script,'w')\n",
    "\n",
    "\n",
    "for fieldname in fieldnames:\n",
    "    \n",
    "    d_field=d[d['field']==fieldname]\n",
    "    \n",
    "    for line in d_field:\n",
    "        field = line['field']\n",
    "        ccd   = line['ampl']\n",
    "        ra    = line['RAdeg']\n",
    "        dec   = line['DECdeg']\n",
    "        printme = f'\\n#{field} {ccd} {ra} {dec} :\\n'\n",
    "        #print(printme)\n",
    "        saveit.write(printme)\n",
    "        for band,photcode in zip(['g','i'],['0x5013','0x5015']):\n",
    "\n",
    "            command = f'getPS1cat.py  {ra} {dec} -{band} --size 0.55x0.3 '\n",
    "            command = command+f'-o {outdir}/{photcode}/{field}_{band}_{ccd}_PS1.cat '\n",
    "            command = command+f'--clobber --tmpdir {pipedata_dir}/workspace/delme/PS1cat \\n'\n",
    "            #print(command)\n",
    "            saveit.write(command)\n",
    "            \n",
    "saveit.close()"
   ]
  },
  {
   "cell_type": "code",
   "execution_count": null,
   "metadata": {
    "scrolled": false
   },
   "outputs": [],
   "source": []
  },
  {
   "cell_type": "code",
   "execution_count": null,
   "metadata": {},
   "outputs": [],
   "source": []
  },
  {
   "cell_type": "code",
   "execution_count": null,
   "metadata": {},
   "outputs": [],
   "source": []
  }
 ],
 "metadata": {
  "kernelspec": {
   "display_name": "Python 3",
   "language": "python",
   "name": "python3"
  },
  "language_info": {
   "codemirror_mode": {
    "name": "ipython",
    "version": 3
   },
   "file_extension": ".py",
   "mimetype": "text/x-python",
   "name": "python",
   "nbconvert_exporter": "python",
   "pygments_lexer": "ipython3",
   "version": "3.6.12"
  }
 },
 "nbformat": 4,
 "nbformat_minor": 4
}
