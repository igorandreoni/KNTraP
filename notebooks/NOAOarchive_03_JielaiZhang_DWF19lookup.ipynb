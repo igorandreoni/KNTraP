{
 "cells": [
  {
   "cell_type": "code",
   "execution_count": 61,
   "metadata": {},
   "outputs": [
    {
     "name": "stdout",
     "output_type": "stream",
     "text": [
      "Using server on https://astroarchive.noirlab.edu\n",
      "adsurl = https://astroarchive.noirlab.edu/api/adv_search\n",
      "Started on: 2022-01-24 21:31:20.645421\n"
     ]
    }
   ],
   "source": [
    "import sys\n",
    "import pandas as pd\n",
    "import matplotlib.pyplot as plt\n",
    "import matplotlib\n",
    "import numpy as np\n",
    "import astropy.io.fits as pyfits\n",
    "import astropy.utils as autils\n",
    "import requests\n",
    "import json\n",
    "import datetime\n",
    "from pprint import pprint as pp\n",
    "import os\n",
    "import astropy.io.fits as fits\n",
    "\n",
    "# Jielai added modules f\n",
    "import subprocess\n",
    "import seaborn as sns\n",
    "pw = 'XXX'\n",
    "usrname = 'XXX'\n",
    "\n",
    "# Time Counter function\n",
    "import time\n",
    "def tic():\n",
    "    tic.start = time.perf_counter()\n",
    "def toc():\n",
    "    elapsed_seconds = time.perf_counter() - tic.start\n",
    "    return elapsed_seconds # fractional\n",
    "\n",
    "# NOAO server Settings\n",
    "natroot = 'https://astroarchive.noirlab.edu'\n",
    "assert natroot == 'https://astroarchive.noirlab.edu', 'Notebook does NOT point to PRODUCTION'\n",
    "print(f\"Using server on {natroot}\")\n",
    "adsurl = f'{natroot}/api/adv_search'\n",
    "print(f\"adsurl = {adsurl}\")\n",
    "\n",
    "# Start the timer\n",
    "print(f'Started on: {str(datetime.datetime.now())}')\n",
    "tic() # Start timing the run of this notebook"
   ]
  },
  {
   "cell_type": "code",
   "execution_count": 50,
   "metadata": {
    "scrolled": true
   },
   "outputs": [
    {
     "name": "stdout",
     "output_type": "stream",
     "text": [
      "Using API url: https://astroarchive.noirlab.edu/api/adv_search/fasearch/?limit=200000\n",
      "2893\n"
     ]
    }
   ],
   "source": [
    "jj = {\n",
    "    \"outfields\" : [\n",
    "        \"md5sum\",\n",
    "        \"archive_filename\",\n",
    "        #\"telescope\",\n",
    "        #\"instrument\",\n",
    "        #\"obs_type\",\n",
    "        \"proc_type\",\n",
    "        \"prod_type\",\n",
    "        #\"release_date\",\n",
    "        \"proposal\",\n",
    "        \"ra_center\",\n",
    "        #\"ra_min\",\n",
    "        \"dec_center\",\n",
    "        #\"dec_min\",\n",
    "        # 'The local calendar date of the telescope, at the start of PM observing.' = caldat\n",
    "        \"caldat\",\n",
    "        \"url\",\n",
    "        \"filesize\",\n",
    "        \"ifilter\",\n",
    "        #\"seeing\",\n",
    "        \"exposure\",\n",
    "        #\"depth\",\n",
    "        \"dateobs_min\",\n",
    "        \"dateobs_max\",\n",
    "        'release_date'\n",
    "    ],\n",
    "    \"search\" : [\n",
    "        #[\"release_date\", \"2020-01-01\", \"2021-01-01\"], # proprietary\n",
    "        [\"obs_type\", 'object'],\n",
    "        #[\"pi\", 'cooke'],\n",
    "        [\"proposal\",\"2019A-0911\",\"2019B-1012\"],\n",
    "        [\"proc_type\",\"instcal\"],\n",
    "        [\"prod_type\", \"image\"],\n",
    "        [\"caldat\",\"2019-01-01\", \"2019-12-31\"]\n",
    "    ]\n",
    "}\n",
    "apiurl = f'{adsurl}/fasearch/?limit=200000'\n",
    "print(f'Using API url: {apiurl}')\n",
    "ads_df = pd.DataFrame(requests.post(apiurl,json=jj).json()[1:])\n",
    "print(len(ads_df))\n",
    "#ads_df"
   ]
  },
  {
   "cell_type": "code",
   "execution_count": 51,
   "metadata": {},
   "outputs": [
    {
     "data": {
      "text/plain": [
       "Text(0.5, 1.0, 'all fields observed during DWF run 2021 June')"
      ]
     },
     "execution_count": 51,
     "metadata": {},
     "output_type": "execute_result"
    },
    {
     "data": {
      "image/png": "[encoded data removed]",
      "text/plain": [
       "<Figure size 432x288 with 1 Axes>"
      ]
     },
     "metadata": {
      "needs_background": "light"
     },
     "output_type": "display_data"
    }
   ],
   "source": [
    "sns.scatterplot(data=ads_df, x=\"ra_center\", y=\"dec_center\")\n",
    "plt.title(\"all fields observed during DWF run 2021 June\")"
   ]
  },
  {
   "cell_type": "code",
   "execution_count": 66,
   "metadata": {},
   "outputs": [
    {
     "data": {
      "text/plain": [
       "md5sum                               0014d6093f6cdc63baccd377fc566025\n",
       "archive_filename    /net/archive/pipe/20190627/ct4m/2019A-0911/c4d...\n",
       "proc_type                                                     instcal\n",
       "prod_type                                                       image\n",
       "proposal                                                   2019A-0911\n",
       "ra_center                                                     246.494\n",
       "dec_center                                                   -73.0006\n",
       "caldat                                                     2019-06-27\n",
       "filesize                                                    323248320\n",
       "ifilter                              g DECam SDSS c0001 4720.0 1520.0\n",
       "exposure                                                           20\n",
       "release_date                                               2020-12-18\n",
       "dateobs_min                               2019-06-28T00:24:56.958899Z\n",
       "dateobs_max                               2019-06-28T00:25:16.958899Z\n",
       "url                 https://astroarchive.noirlab.edu/api/retrieve/...\n",
       "Name: 0, dtype: object"
      ]
     },
     "execution_count": 66,
     "metadata": {},
     "output_type": "execute_result"
    }
   ],
   "source": [
    "ads_df.iloc[0]"
   ]
  },
  {
   "cell_type": "code",
   "execution_count": 64,
   "metadata": {},
   "outputs": [
    {
     "name": "stdout",
     "output_type": "stream",
     "text": [
      "[246.4505, -72.202194] NGC6101\n",
      "[287.442079, -63.85753] NGC6744\n",
      "[326, -41] Field3\n",
      "[335, -9] FRB171019\n",
      "[186.5, -28] Antlia\n",
      "[52.5, -28] CDFS\n"
     ]
    },
    {
     "data": {
      "image/png": "[encoded data removed]",
      "text/plain": [
       "<Figure size 432x288 with 1 Axes>"
      ]
     },
     "metadata": {
      "needs_background": "light"
     },
     "output_type": "display_data"
    }
   ],
   "source": [
    "sns.scatterplot(data=ads_df, x=\"ra_center\", y=\"dec_center\", alpha=0.1, marker='x',s=100)\n",
    "plt.title(\"DWF 2019 fields\")\n",
    "# there are 15 fields focusing on GRB210605A, which is correct \n",
    "# we defined 15 fields, but 2 were not observed even once\n",
    "dic_fieldname_coordinates = {\n",
    "    'NGC6101' : [246.4505, -72.202194],\n",
    "    'NGC6744' : [287.442079, -63.85753],\n",
    "    'Field3' : [326, -41],\n",
    "    'FRB171019' : [335, -9],\n",
    "    'Unknown9hr' : [186.5,-28], \n",
    "    'CDFS' : [52.5,-28],\n",
    "}\n",
    "\n",
    "for n,c in dic_fieldname_coordinates.items():\n",
    "    print(c,n)\n",
    "    plt.annotate(n, (c[0], c[1]))"
   ]
  },
  {
   "cell_type": "code",
   "execution_count": 69,
   "metadata": {
    "scrolled": false
   },
   "outputs": [
    {
     "name": "stdout",
     "output_type": "stream",
     "text": [
      "\n",
      " [246.4505, -72.202194] NGC6101\n",
      "670\n",
      "md5sum                               0014d6093f6cdc63baccd377fc566025\n",
      "archive_filename    /net/archive/pipe/20190627/ct4m/2019A-0911/c4d...\n",
      "proc_type                                                     instcal\n",
      "prod_type                                                       image\n",
      "proposal                                                   2019A-0911\n",
      "ra_center                                                     246.494\n",
      "dec_center                                                   -73.0006\n",
      "caldat                                                     2019-06-27\n",
      "filesize                                                    323248320\n",
      "ifilter                              g DECam SDSS c0001 4720.0 1520.0\n",
      "exposure                                                           20\n",
      "release_date                                               2020-12-18\n",
      "dateobs_min                               2019-06-28T00:24:56.958899Z\n",
      "dateobs_max                               2019-06-28T00:25:16.958899Z\n",
      "url                 https://astroarchive.noirlab.edu/api/retrieve/...\n",
      "Name: 0, dtype: object\n",
      "https://astroarchive.noirlab.edu/api/retrieve/0014d6093f6cdc63baccd377fc566025/\n",
      "{'2019-06-26', '2019-06-27', '2019-06-25', '2019-06-23'}\n",
      "ngc6101\n",
      "\n",
      " [287.442079, -63.85753] NGC6744\n",
      "576\n",
      "md5sum                               007faf44e38214fb84c82c387521e880\n",
      "archive_filename    /net/archive/pipe/20190627/ct4m/2019A-0911/c4d...\n",
      "proc_type                                                     instcal\n",
      "prod_type                                                       image\n",
      "proposal                                                   2019A-0911\n",
      "ra_center                                                     286.997\n",
      "dec_center                                                   -64.4993\n",
      "caldat                                                     2019-06-27\n",
      "filesize                                                    320624640\n",
      "ifilter                              g DECam SDSS c0001 4720.0 1520.0\n",
      "exposure                                                           20\n",
      "release_date                                               2020-12-18\n",
      "dateobs_min                               2019-06-28T02:31:42.863085Z\n",
      "dateobs_max                               2019-06-28T02:32:02.863085Z\n",
      "url                 https://astroarchive.noirlab.edu/api/retrieve/...\n",
      "Name: 4, dtype: object\n",
      "https://astroarchive.noirlab.edu/api/retrieve/007faf44e38214fb84c82c387521e880/\n",
      "{'2019-06-25', '2019-06-27', '2019-06-26', '2019-06-23'}\n",
      "ngc6744\n",
      "\n",
      " [326, -41] Field3\n",
      "363\n",
      "md5sum                               0055f7438e4d9fb1eb202eb7f452c87c\n",
      "archive_filename    /net/archive/pipe/20190626/ct4m/2019A-0911/c4d...\n",
      "proc_type                                                     instcal\n",
      "prod_type                                                       image\n",
      "proposal                                                   2019A-0911\n",
      "ra_center                                                     326.108\n",
      "dec_center                                                   -40.9654\n",
      "caldat                                                     2019-06-26\n",
      "filesize                                                    318116160\n",
      "ifilter                              g DECam SDSS c0001 4720.0 1520.0\n",
      "exposure                                                           20\n",
      "release_date                                               2020-12-17\n",
      "dateobs_min                               2019-06-27T03:53:42.916241Z\n",
      "dateobs_max                               2019-06-27T03:54:02.916241Z\n",
      "url                 https://astroarchive.noirlab.edu/api/retrieve/...\n",
      "Name: 2, dtype: object\n",
      "https://astroarchive.noirlab.edu/api/retrieve/0055f7438e4d9fb1eb202eb7f452c87c/\n",
      "{'2019-06-25', '2019-06-27', '2019-06-26', '2019-06-23'}\n",
      "Field3\n",
      "\n",
      " [335, -9] FRB171019\n",
      "414\n",
      "md5sum                               0125d4ceb55b7380c87d1f1566a3af2f\n",
      "archive_filename    /net/archive/pipe/20191206/ct4m/2019B-1012/c4d...\n",
      "proc_type                                                     instcal\n",
      "prod_type                                                       image\n",
      "proposal                                                   2019B-1012\n",
      "ra_center                                                     335.054\n",
      "dec_center                                                   -8.57711\n",
      "caldat                                                     2019-12-06\n",
      "filesize                                                    318715200\n",
      "ifilter                              g DECam SDSS c0001 4720.0 1520.0\n",
      "exposure                                                           20\n",
      "release_date                                               2021-05-29\n",
      "dateobs_min                               2019-12-07T01:37:35.958151Z\n",
      "dateobs_max                               2019-12-07T01:37:55.958151Z\n",
      "url                 https://astroarchive.noirlab.edu/api/retrieve/...\n",
      "Name: 11, dtype: object\n",
      "https://astroarchive.noirlab.edu/api/retrieve/0125d4ceb55b7380c87d1f1566a3af2f/\n",
      "{'2019-12-05', '2019-12-06', '2019-12-01', '2019-12-04'}\n",
      "FRB171019\n",
      "\n",
      " [186.5, -28] Antlia\n",
      "3\n",
      "md5sum                               6ba676807e91db56bcfc3e8f5effd6ea\n",
      "archive_filename    /net/archive/pipe/20190627/ct4m/2019A-0911/c4d...\n",
      "proc_type                                                     instcal\n",
      "prod_type                                                       image\n",
      "proposal                                                   2019A-0911\n",
      "ra_center                                                     186.326\n",
      "dec_center                                                   -27.7492\n",
      "caldat                                                     2019-06-27\n",
      "filesize                                                    322153920\n",
      "ifilter                              r DECam SDSS c0002 6415.0 1480.0\n",
      "exposure                                                           30\n",
      "release_date                                               2020-12-18\n",
      "dateobs_min                               2019-06-27T22:42:37.292621Z\n",
      "dateobs_max                               2019-06-27T22:43:07.292621Z\n",
      "url                 https://astroarchive.noirlab.edu/api/retrieve/...\n",
      "Name: 1193, dtype: object\n",
      "https://astroarchive.noirlab.edu/api/retrieve/6ba676807e91db56bcfc3e8f5effd6ea/\n",
      "{'2019-06-27'}\n",
      "\n",
      "\n",
      " [52.5, -28] CDFS\n",
      "866\n",
      "md5sum                               0066796f173104ea26fc3801261ff7bc\n",
      "archive_filename    /net/archive/pipe/20191203/ct4m/2019B-1012/c4d...\n",
      "proc_type                                                     instcal\n",
      "prod_type                                                       image\n",
      "proposal                                                   2019B-1012\n",
      "ra_center                                                     52.6026\n",
      "dec_center                                                   -28.0984\n",
      "caldat                                                     2019-12-03\n",
      "filesize                                                    318199680\n",
      "ifilter                              g DECam SDSS c0001 4720.0 1520.0\n",
      "exposure                                                           20\n",
      "release_date                                               2021-05-26\n",
      "dateobs_min                               2019-12-04T03:36:33.245293Z\n",
      "dateobs_max                               2019-12-04T03:36:53.245293Z\n",
      "url                 https://astroarchive.noirlab.edu/api/retrieve/...\n",
      "Name: 3, dtype: object\n",
      "https://astroarchive.noirlab.edu/api/retrieve/0066796f173104ea26fc3801261ff7bc/\n",
      "{'2019-12-02', '2019-12-01', '2019-12-05', '2019-12-04', '2019-12-03', '2019-12-06'}\n",
      "CDFS\n"
     ]
    },
    {
     "data": {
      "image/png": "[encoded data removed]",
      "text/plain": [
       "<Figure size 432x288 with 1 Axes>"
      ]
     },
     "metadata": {
      "needs_background": "light"
     },
     "output_type": "display_data"
    },
    {
     "data": {
      "image/png": "[encoded data removed]",
      "text/plain": [
       "<Figure size 432x288 with 1 Axes>"
      ]
     },
     "metadata": {
      "needs_background": "light"
     },
     "output_type": "display_data"
    },
    {
     "data": {
      "image/png": "[encoded data removed]",
      "text/plain": [
       "<Figure size 432x288 with 1 Axes>"
      ]
     },
     "metadata": {
      "needs_background": "light"
     },
     "output_type": "display_data"
    },
    {
     "data": {
      "image/png": "[encoded data removed]",
      "text/plain": [
       "<Figure size 432x288 with 1 Axes>"
      ]
     },
     "metadata": {
      "needs_background": "light"
     },
     "output_type": "display_data"
    },
    {
     "data": {
      "image/png": "[encoded data removed]",
      "text/plain": [
       "<Figure size 432x288 with 1 Axes>"
      ]
     },
     "metadata": {
      "needs_background": "light"
     },
     "output_type": "display_data"
    },
    {
     "data": {
      "image/png": "[encoded data removed]",
      "text/plain": [
       "<Figure size 432x288 with 1 Axes>"
      ]
     },
     "metadata": {
      "needs_background": "light"
     },
     "output_type": "display_data"
    }
   ],
   "source": [
    "for n,c in dic_fieldname_coordinates.items():\n",
    "    print('\\n',c,n)\n",
    "    field_RA   =  c[0]\n",
    "    field_DEC  = c[1]\n",
    "    dec_offset_allowance = 5\n",
    "    RA_offset_allowance  = 5\n",
    "    ra_min = field_RA-RA_offset_allowance\n",
    "    ra_max = field_RA+RA_offset_allowance\n",
    "    dec_min = field_DEC-dec_offset_allowance\n",
    "    dec_max = field_DEC+dec_offset_allowance\n",
    "    field_ads_df = ads_df[( (ads_df['ra_center']>ra_min) & (ads_df['ra_center']<ra_max) &\n",
    "                            (ads_df['dec_center']<dec_max) & (ads_df['dec_center']>dec_min)\n",
    "                         )]\n",
    "    print(len(field_ads_df))\n",
    "\n",
    "    plt.figure()\n",
    "    sns.scatterplot(data=ads_df, x=\"ra_center\", y=\"dec_center\", alpha=0.5, marker='x',s=200)\n",
    "    plt.ylim(dec_min, dec_max)\n",
    "    plt.xlim(ra_min, ra_max)\n",
    "    plt.scatter(field_RA,field_DEC,color='red')\n",
    "    print(field_ads_df.iloc[0])\n",
    "    print(field_ads_df.iloc[0]['url'])\n",
    "    cal_dates = field_ads_df['caldat']\n",
    "    print(set(cal_dates))\n",
    "    \n",
    "    #os.system(f\"wget {field_ads_df.iloc[0]['url']} --output-document=/Users/jielaizhang/Downloads/{n}.fits\")\n",
    "    \n",
    "    h = fits.getheader(f\"/Users/jielaizhang/Downloads/{n}.fits\")\n",
    "    print(h['OBJECT'])"
   ]
  },
  {
   "cell_type": "code",
   "execution_count": 68,
   "metadata": {},
   "outputs": [
    {
     "name": "stdout",
     "output_type": "stream",
     "text": [
      "\n",
      " [186.5, -28] Antlia\n",
      "3\n",
      "md5sum                               836bff15e30053e4fe155cd70e3efb73\n",
      "archive_filename    /net/archive/pipe/20190627/ct4m/2019A-0911/c4d...\n",
      "proc_type                                                     instcal\n",
      "prod_type                                                       image\n",
      "proposal                                                   2019A-0911\n",
      "ra_center                                                     186.325\n",
      "dec_center                                                   -27.7499\n",
      "caldat                                                     2019-06-27\n",
      "filesize                                                    321710400\n",
      "ifilter                              r DECam SDSS c0002 6415.0 1480.0\n",
      "exposure                                                           30\n",
      "release_date                                               2020-12-18\n",
      "dateobs_min                               2019-06-27T22:42:37.292621Z\n",
      "dateobs_max                               2019-06-27T22:43:07.292621Z\n",
      "url                 https://astroarchive.noirlab.edu/api/retrieve/...\n",
      "Name: 1483, dtype: object\n",
      "https://astroarchive.noirlab.edu/api/retrieve/836bff15e30053e4fe155cd70e3efb73/\n",
      "\n"
     ]
    },
    {
     "data": {
      "image/png": "[encoded data removed]",
      "text/plain": [
       "<Figure size 432x288 with 1 Axes>"
      ]
     },
     "metadata": {
      "needs_background": "light"
     },
     "output_type": "display_data"
    }
   ],
   "source": [
    "for n,c in dic_fieldname_coordinates.items():\n",
    "    if n=='Antlia' :\n",
    "\n",
    "        print('\\n',c,n)\n",
    "        field_RA   =  c[0]\n",
    "        field_DEC  = c[1]\n",
    "        dec_offset_allowance = 5\n",
    "        RA_offset_allowance  = 5\n",
    "        ra_min = field_RA-RA_offset_allowance\n",
    "        ra_max = field_RA+RA_offset_allowance\n",
    "        dec_min = field_DEC-dec_offset_allowance\n",
    "        dec_max = field_DEC+dec_offset_allowance\n",
    "        field_ads_df = ads_df[( (ads_df['ra_center']>ra_min) & (ads_df['ra_center']<ra_max) &\n",
    "                                (ads_df['dec_center']<dec_max) & (ads_df['dec_center']>dec_min)\n",
    "                             )]\n",
    "        print(len(field_ads_df))\n",
    "\n",
    "        plt.figure()\n",
    "        sns.scatterplot(data=ads_df, x=\"ra_center\", y=\"dec_center\", alpha=0.5, marker='x',s=200)\n",
    "        plt.ylim(dec_min, dec_max)\n",
    "        plt.xlim(ra_min, ra_max)\n",
    "        plt.scatter(field_RA,field_DEC,color='red')\n",
    "        print(field_ads_df.iloc[1])\n",
    "        print(field_ads_df.iloc[1]['url'])\n",
    "\n",
    "        os.system(f\"wget {field_ads_df.iloc[0]['url']} --output-document=/Users/jielaizhang/Downloads/{n}1.fits\")\n",
    "\n",
    "        h = fits.getheader(f\"/Users/jielaizhang/Downloads/{n}1.fits\")\n",
    "        print(h['OBJECT'])"
   ]
  },
  {
   "cell_type": "code",
   "execution_count": null,
   "metadata": {},
   "outputs": [],
   "source": []
  }
 ],
 "metadata": {
  "kernelspec": {
   "display_name": "Python 3",
   "language": "python",
   "name": "python3"
  },
  "language_info": {
   "codemirror_mode": {
    "name": "ipython",
    "version": 3
   },
   "file_extension": ".py",
   "mimetype": "text/x-python",
   "name": "python",
   "nbconvert_exporter": "python",
   "pygments_lexer": "ipython3",
   "version": "3.6.12"
  }
 },
 "nbformat": 4,
 "nbformat_minor": 4
}
