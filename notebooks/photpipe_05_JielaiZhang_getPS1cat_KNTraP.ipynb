{
 "cells": [
  {
   "cell_type": "raw",
   "metadata": {},
   "source": [
    "#Ruyi\n",
    "scp -i /Users/jielaizhang/.ssh/id_rsa_ozstarfstars fstars@ozstar.swin.edu.au:/fred/oz100/NOAO_archive/KNTraP_Project/src/photpipe/config/DECAMNOAO/KNTraP/KNTraP.fieldcenters /Users/jielaizhang/src/KNTraP/notes\n",
    "# not needed but do in one go for record keeping\n",
    "scp -i /Users/jielaizhang/.ssh/id_rsa_ozstarfstars fstars@ozstar.swin.edu.au:/fred/oz100/NOAO_archive/KNTraP_Project/src/photpipe/config/DECAMNOAO/KNTraP/KNTraP.pointings.txt /Users/jielaizhang/src/KNTraP/notes\n",
    "\n",
    "#OzSTAR\n",
    "mkdir /fred/oz100/NOAO_archive/KNTraP_Project/photpipe/v20.0/DECAMNOAO/KNTraP/abscats/\n",
    "mkdir /fred/oz100/NOAO_archive/KNTraP_Project/photpipe/v20.0/DECAMNOAO/KNTraP/abscats/0x5013\n",
    "mkdir /fred/oz100/NOAO_archive/KNTraP_Project/photpipe/v20.0/DECAMNOAO/KNTraP/abscats/0x5014\n",
    "mkdir /fred/oz100/NOAO_archive/KNTraP_Project/photpipe/v20.0/DECAMNOAO/KNTraP/abscats/0x5015\n",
    "mkdir /fred/oz100/NOAO_archive/KNTraP_Project/photpipe/v20.0/DECAMNOAO/KNTraP/abscats/0x5016"
   ]
  },
  {
   "cell_type": "code",
   "execution_count": 1,
   "metadata": {},
   "outputs": [
    {
     "name": "stdout",
     "output_type": "stream",
     "text": [
      "DONE\n"
     ]
    }
   ],
   "source": [
    "#!/usr/env/python\n",
    "\n",
    "import pandas as pd\n",
    "import astropy.io.ascii as ascii\n",
    "import numpy as np\n",
    "\n",
    "f='/Users/jielaizhang/src/KNTraP/notes/KNTraP.fieldcenters'\n",
    "pipedata_dir = '/fred/oz100/NOAO_archive/KNTraP_Project/photpipe/v20.0/DECAMNOAO/KNTraP/'\n",
    "outdir       = '/fred/oz100/NOAO_archive/KNTraP_Project/photpipe/v20.0/DECAMNOAO/KNTraP/abscats/'\n",
    "\n",
    "d = ascii.read(f)\n",
    "fieldnames = np.unique(d['field'])\n",
    "SCRIPTNUMBER = 0\n",
    "DOWNLOADSPERSCRIPT = 0\n",
    "\n",
    "for fieldname in fieldnames:\n",
    "    \n",
    "    d_field=d[d['field']==fieldname]\n",
    "    \n",
    "    for line in d_field:\n",
    "        \n",
    "        if DOWNLOADSPERSCRIPT == 0:\n",
    "            SCRIPTNUMBER += 1\n",
    "            command_script = f'/Users/jielaizhang/src/KNTraP/scripts/photpipe_getKNTraP_PS1cats_{SCRIPTNUMBER}.sh'\n",
    "            saveit = open(command_script,'w')\n",
    "        \n",
    "        field = line['field']\n",
    "        ccd   = line['ampl']\n",
    "        ra    = line['RAdeg']\n",
    "        dec   = line['DECdeg']\n",
    "        printme = f'\\n#{field} {ccd} {ra} {dec} :\\n'\n",
    "        DOWNLOADSPERSCRIPT += 1\n",
    "        if DOWNLOADSPERSCRIPT == 200:\n",
    "            DOWNLOADSPERSCRIPT = 0\n",
    "        #print(printme)\n",
    "        saveit.write(printme)\n",
    "        \n",
    "        for band,photcode in zip(['g','i'],['0x5013','0x5015']):\n",
    "\n",
    "            command = f'getPS1cat.py  {ra} {dec} -{band} --size 0.55x0.3 '\n",
    "            command = command+f'-o {outdir}/{photcode}/{field}_{band}_{ccd}_PS1.cat '\n",
    "            command = command+f'--clobber --tmpdir {pipedata_dir}/workspace/delme/PS1cat \\n'\n",
    "            #print(command)\n",
    "            saveit.write(command)\n",
    "            \n",
    "saveit.close()\n",
    "print('DONE')"
   ]
  },
  {
   "cell_type": "code",
   "execution_count": null,
   "metadata": {
    "scrolled": false
   },
   "outputs": [],
   "source": []
  },
  {
   "cell_type": "code",
   "execution_count": null,
   "metadata": {},
   "outputs": [],
   "source": []
  },
  {
   "cell_type": "code",
   "execution_count": null,
   "metadata": {},
   "outputs": [],
   "source": []
  }
 ],
 "metadata": {
  "kernelspec": {
   "display_name": "Python 3",
   "language": "python",
   "name": "python3"
  },
  "language_info": {
   "codemirror_mode": {
    "name": "ipython",
    "version": 3
   },
   "file_extension": ".py",
   "mimetype": "text/x-python",
   "name": "python",
   "nbconvert_exporter": "python",
   "pygments_lexer": "ipython3",
   "version": "3.7.4"
  }
 },
 "nbformat": 4,
 "nbformat_minor": 4
}
